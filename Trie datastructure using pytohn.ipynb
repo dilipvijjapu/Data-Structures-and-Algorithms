{
 "cells": [
  {
   "cell_type": "code",
   "execution_count": 4,
   "metadata": {},
   "outputs": [
    {
     "name": "stdout",
     "output_type": "stream",
     "text": [
      "False\n"
     ]
    }
   ],
   "source": [
    "class trie:\n",
    "    head={}\n",
    "    \n",
    "    def add(self,word):\n",
    "        dic = self.head\n",
    "        for ch in word:\n",
    "            if ch not in dic:\n",
    "                dic[ch] = {}\n",
    "            dic = dic[ch]\n",
    "        \n",
    "        dic['*'] = True\n",
    "    \n",
    "    def search(self,word):\n",
    "        dic = self.head\n",
    "        \n",
    "        for ch in word:\n",
    "            if ch not in dic:\n",
    "                return False\n",
    "            dic = dic[ch]\n",
    "        if '*' in dic:\n",
    "            return True\n",
    "        else:\n",
    "            return False\n",
    "        \n",
    "\n",
    "dicto = trie()\n",
    "\n",
    "dicto.add('Hi')\n",
    "print(dicto.search('dilip'))"
   ]
  },
  {
   "cell_type": "code",
   "execution_count": null,
   "metadata": {},
   "outputs": [],
   "source": []
  }
 ],
 "metadata": {
  "kernelspec": {
   "display_name": "Python 3",
   "language": "python",
   "name": "python3"
  },
  "language_info": {
   "codemirror_mode": {
    "name": "ipython",
    "version": 3
   },
   "file_extension": ".py",
   "mimetype": "text/x-python",
   "name": "python",
   "nbconvert_exporter": "python",
   "pygments_lexer": "ipython3",
   "version": "3.7.6"
  }
 },
 "nbformat": 4,
 "nbformat_minor": 4
}
